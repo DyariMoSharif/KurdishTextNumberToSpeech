{
 "cells": [
  {
   "cell_type": "code",
   "execution_count": 2,
   "metadata": {},
   "outputs": [
    {
     "name": "stdout",
     "output_type": "stream",
     "text": [
      "76\n"
     ]
    },
    {
     "data": {
      "text/plain": [
       "['70', 'w', '6']"
      ]
     },
     "execution_count": 2,
     "metadata": {},
     "output_type": "execute_result"
    }
   ],
   "source": [
    "def thno(nav):\n",
    "    naved=str(nav)\n",
    "    res=[]\n",
    "    if naved[1]!='1':\n",
    "        if naved[0]!='0':\n",
    "            res.append(naved[0])\n",
    "            res.append('100')\n",
    "            res.append('w')\n",
    "        if naved[1]!='0':\n",
    "            res.append(str(int(naved[1])*10))\n",
    "            res.append('w')\n",
    "        if naved[2]!='0':\n",
    "            res.append(naved[2])\n",
    "        else:\n",
    "            if len(res)!=0:\n",
    "                res.pop()\n",
    "            \n",
    "    if naved[1]=='1':\n",
    "        if naved[0]!='0':\n",
    "            res.append(naved[0])\n",
    "            res.append('100')\n",
    "            res.append('w')\n",
    "        if naved[1:3]!='0':\n",
    "            res.append(str(int(naved[1:3])))\n",
    "    return res\n",
    "\n",
    "from playsound import playsound\n",
    "\n",
    "entered=int(input()) #enter a number\n",
    "#entered=3\n",
    "\n",
    "if entered<1000000:\n",
    "    entered=format(entered, '6d').replace(' ','0')\n",
    "elif entered==1000000:\n",
    "    playsound('1')\n",
    "    playsound('1000000')\n",
    "else:\n",
    "    print('Tikaye, jimareke nabêt le yek milion ziyatir bêt')\n",
    "    quit()\n",
    "\n",
    "entered=str(entered)\n",
    "resAll=[]\n",
    "resAll+=thno(entered[0:3])\n",
    "if len(resAll)!=0:\n",
    "    resAll+=['1000','w']\n",
    "resAll+=thno(entered[3:6])\n",
    "resAll\n",
    "\n",
    "resAll[0]\n",
    "if len(resAll)>4:\n",
    "    if (resAll[1]=='100') & (resAll[0]=='1'):\n",
    "        resAll[0]='none'\n",
    "if len(resAll)>4:\n",
    "    if (resAll[9]=='100')  & (resAll[8]=='1'):\n",
    "        resAll[8]='none'\n",
    "\n",
    "resAll = [i for i in resAll if i != 'none']\n",
    "\n",
    "for i in resAll:\n",
    "    outLoud=i+'.wav'\n",
    "    playsound(outLoud)\n",
    "\n",
    "resAll"
   ]
  }
 ],
 "metadata": {
  "kernelspec": {
   "display_name": "Python 3",
   "language": "python",
   "name": "python3"
  },
  "language_info": {
   "codemirror_mode": {
    "name": "ipython",
    "version": 3
   },
   "file_extension": ".py",
   "mimetype": "text/x-python",
   "name": "python",
   "nbconvert_exporter": "python",
   "pygments_lexer": "ipython3",
   "version": "3.7.6"
  }
 },
 "nbformat": 4,
 "nbformat_minor": 4
}
