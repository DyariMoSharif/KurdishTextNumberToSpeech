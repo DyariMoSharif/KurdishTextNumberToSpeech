{
 "cells": [
  {
   "cell_type": "code",
   "execution_count": 3,
   "metadata": {},
   "outputs": [],
   "source": [
    "dang={\n",
    "    '1':'yak.wav','2':'du.wav','3':'se.wav','4':'char.wav','5':'pench.wav','6':'shash.wav','7':'haft.wav','8':'hasht.wav',\n",
    "    '9':'no.wav','10':'da.wav','11':'yazda.wav','12':'dwazda.wav','13':'sezda.wav','14':'charda.wav','15':'pazda.wav',\n",
    "    '16':'shazda.wav','17':'havda.wav','18':'hajda.wav','19':'nozda.wav','20':'bist.wav','30':'si.wav','40':'chl.wav',\n",
    "    '50':'penjy.wav','60':'shest.wav','70':'hafte.wav','80':'hashte.wav','90':'nohat.wav','100':'sad.wav',\n",
    "    '1000':'hzar.wav','1000000':'mlyon.wav','w':'wu.wav'\n",
    "}"
   ]
  },
  {
   "cell_type": "code",
   "execution_count": 4,
   "metadata": {},
   "outputs": [],
   "source": [
    "def thno(nav):\n",
    "    naved=str(nav)\n",
    "    res=[]\n",
    "    if naved[1]!='1':\n",
    "        if naved[0]!='0':\n",
    "            res.append(naved[0])\n",
    "            res.append('100')\n",
    "            res.append('w')\n",
    "        if naved[1]!='0':\n",
    "            res.append(str(int(naved[1])*10))\n",
    "            res.append('w')\n",
    "        if naved[2]!='0':\n",
    "            res.append(naved[2])\n",
    "        else:\n",
    "            res.pop()\n",
    "            \n",
    "    if naved[1]=='1':\n",
    "        if naved[0]!='0':\n",
    "            res.append(naved[0])\n",
    "            res.append('100')\n",
    "            res.append('w')\n",
    "        if naved[1:3]!='0':\n",
    "            res.append(str(int(naved[1:3])))\n",
    "    return res"
   ]
  },
  {
   "cell_type": "code",
   "execution_count": 9,
   "metadata": {},
   "outputs": [
    {
     "data": {
      "text/plain": [
       "['5', '100', 'w', '70', 'w', '2', '1000', 'w', '30', 'w', '7']"
      ]
     },
     "execution_count": 9,
     "metadata": {},
     "output_type": "execute_result"
    }
   ],
   "source": [
    "from playsound import playsound\n",
    "entered=572037\n",
    "if entered<1000000:\n",
    "    entered=format(entered, '6d').replace(' ','0')\n",
    "elif entered==1000000:\n",
    "    playsound(dang['1'])\n",
    "    playsound(dang['1000000'])\n",
    "else:\n",
    "    print('Tikaye, jimareke nabêt le yek milion ziyatir bêt')\n",
    "    quit()\n",
    "\n",
    "entered=str(entered)\n",
    "resAll=[]\n",
    "resAll+=thno(entered[0:3])\n",
    "resAll+=['1000','w']\n",
    "resAll+=thno(entered[3:6])\n",
    "resAll\n",
    "for i in resAll:\n",
    "    playsound(dang[i])\n",
    "resAll"
   ]
  },
  {
   "cell_type": "code",
   "execution_count": null,
   "metadata": {},
   "outputs": [],
   "source": []
  }
 ],
 "metadata": {
  "kernelspec": {
   "display_name": "Python 3",
   "language": "python",
   "name": "python3"
  },
  "language_info": {
   "codemirror_mode": {
    "name": "ipython",
    "version": 3
   },
   "file_extension": ".py",
   "mimetype": "text/x-python",
   "name": "python",
   "nbconvert_exporter": "python",
   "pygments_lexer": "ipython3",
   "version": "3.7.6"
  }
 },
 "nbformat": 4,
 "nbformat_minor": 4
}
