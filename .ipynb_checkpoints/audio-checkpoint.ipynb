{
 "cells": [
  {
   "cell_type": "code",
   "execution_count": 2,
   "metadata": {},
   "outputs": [
    {
     "data": {
      "text/plain": [
       "['5', '100', 'w', '70', 'w', '2', '1000', 'w', '30', 'w', '7']"
      ]
     },
     "execution_count": 2,
     "metadata": {},
     "output_type": "execute_result"
    }
   ],
   "source": [
    "def thno(nav):\n",
    "    naved=str(nav)\n",
    "    res=[]\n",
    "    if naved[1]!='1':\n",
    "        if naved[0]!='0':\n",
    "            res.append(naved[0])\n",
    "            res.append('100')\n",
    "            res.append('w')\n",
    "        if naved[1]!='0':\n",
    "            res.append(str(int(naved[1])*10))\n",
    "            res.append('w')\n",
    "        if naved[2]!='0':\n",
    "            res.append(naved[2])\n",
    "        else:\n",
    "            res.pop()\n",
    "            \n",
    "    if naved[1]=='1':\n",
    "        if naved[0]!='0':\n",
    "            res.append(naved[0])\n",
    "            res.append('100')\n",
    "            res.append('w')\n",
    "        if naved[1:3]!='0':\n",
    "            res.append(str(int(naved[1:3])))\n",
    "    return res\n",
    "\n",
    "from playsound import playsound\n",
    "entered=572037 #enter a number\n",
    "if entered<1000000:\n",
    "    entered=format(entered, '6d').replace(' ','0')\n",
    "elif entered==1000000:\n",
    "    playsound('1')\n",
    "    playsound('1000000')\n",
    "else:\n",
    "    print('Tikaye, jimareke nabêt le yek milion ziyatir bêt')\n",
    "    quit()\n",
    "\n",
    "entered=str(entered)\n",
    "resAll=[]\n",
    "resAll+=thno(entered[0:3])\n",
    "resAll+=['1000','w']\n",
    "resAll+=thno(entered[3:6])\n",
    "resAll\n",
    "for i in resAll:\n",
    "    outLoud=i+'.wav'\n",
    "    playsound(outLoud)\n",
    "resAll"
   ]
  }
 ],
 "metadata": {
  "kernelspec": {
   "display_name": "Python 3",
   "language": "python",
   "name": "python3"
  },
  "language_info": {
   "codemirror_mode": {
    "name": "ipython",
    "version": 3
   },
   "file_extension": ".py",
   "mimetype": "text/x-python",
   "name": "python",
   "nbconvert_exporter": "python",
   "pygments_lexer": "ipython3",
   "version": "3.7.6"
  }
 },
 "nbformat": 4,
 "nbformat_minor": 4
}
